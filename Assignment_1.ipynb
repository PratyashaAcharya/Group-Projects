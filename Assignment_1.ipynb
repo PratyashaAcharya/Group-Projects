{
  "nbformat": 4,
  "nbformat_minor": 0,
  "metadata": {
    "colab": {
      "provenance": [],
      "include_colab_link": true
    },
    "kernelspec": {
      "name": "python3",
      "display_name": "Python 3"
    },
    "language_info": {
      "name": "python"
    }
  },
  "cells": [
    {
      "cell_type": "markdown",
      "metadata": {
        "id": "view-in-github",
        "colab_type": "text"
      },
      "source": [
        "<a href=\"https://colab.research.google.com/github/PratyashaAcharya/Group-Projects/blob/main/Assignment_1.ipynb\" target=\"_parent\"><img src=\"https://colab.research.google.com/assets/colab-badge.svg\" alt=\"Open In Colab\"/></a>"
      ]
    },
    {
      "cell_type": "markdown",
      "source": [
        "---\n",
        "title: 'Regression modeling using Panel Data '\n",
        "author: \"Pratyasha, Chantal, Jessica\"\n",
        "output:\n",
        "html_document:\n",
        "    df_print: paged\n",
        "  word_document: default\n",
        "subtitle: Using panel data in Regression Modelling\n",
        "---\n",
        "This worksheet provides a series of assignments on the use of R to develop linear regression models with repeated cross section and panel data .\n",
        "\n",
        "\n",
        "Throughout the assignment, we will demonstrate code and leave some empty *code chunks* for you to fill in. We will also provide solutions after the end of the course.\n",
        "\n",
        "Feel free to modify this document with your own comments and clarifications. \n",
        "\n",
        "\n",
        "# Assignment\n",
        "\n",
        "You are asked to complete a series of regression models that will uncover the effect of education on (log)  returns . We will use a dataset that comes with the book \"Introductory Econometrics: A Modern Approach\" by JM Wooldridge. The data come from two waves of the Current Population Survey (1978-1985). Below we load the data and store them in a variable named `wages`"
      ],
      "metadata": {
        "id": "n2BbjZHDZNNq"
      }
    },
    {
      "cell_type": "code",
      "source": [
        "#install package \"wooldridge\" and the Panel Linear Model (plm) package\n",
        "library(wooldridge)\n",
        "library(plm)\n",
        "library(lme4)\n",
        "library(table1)\n",
        "library(dplyr)\n",
        "library(tidyverse)\n",
        "library(dplyr)\n",
        "library(ggplot2)\n",
        "library(stargazer)\n",
        "library(plm)\n",
        "library(vtable)\n",
        "data('cps78_85')\n",
        "wages <- cps78_85"
      ],
      "metadata": {
        "id": "JxGeWp1_ZRJY",
        "colab": {
          "base_uri": "https://localhost:8080/",
          "height": 235
        },
        "outputId": "e51e9384-48b9-4cd7-9205-18e35a91e65e"
      },
      "execution_count": null,
      "outputs": [
        {
          "output_type": "error",
          "ename": "NameError",
          "evalue": "ignored",
          "traceback": [
            "\u001b[0;31m---------------------------------------------------------------------------\u001b[0m",
            "\u001b[0;31mNameError\u001b[0m                                 Traceback (most recent call last)",
            "\u001b[0;32m<ipython-input-2-345999fa9178>\u001b[0m in \u001b[0;36m<module>\u001b[0;34m\u001b[0m\n\u001b[1;32m      1\u001b[0m \u001b[0;31m#install package \"wooldridge\" and the Panel Linear Model (plm) package\u001b[0m\u001b[0;34m\u001b[0m\u001b[0;34m\u001b[0m\u001b[0;34m\u001b[0m\u001b[0m\n\u001b[0;32m----> 2\u001b[0;31m \u001b[0mlibrary\u001b[0m\u001b[0;34m(\u001b[0m\u001b[0mwooldridge\u001b[0m\u001b[0;34m)\u001b[0m\u001b[0;34m\u001b[0m\u001b[0;34m\u001b[0m\u001b[0m\n\u001b[0m\u001b[1;32m      3\u001b[0m \u001b[0mlibrary\u001b[0m\u001b[0;34m(\u001b[0m\u001b[0mplm\u001b[0m\u001b[0;34m)\u001b[0m\u001b[0;34m\u001b[0m\u001b[0;34m\u001b[0m\u001b[0m\n\u001b[1;32m      4\u001b[0m \u001b[0mlibrary\u001b[0m\u001b[0;34m(\u001b[0m\u001b[0mlme4\u001b[0m\u001b[0;34m)\u001b[0m\u001b[0;34m\u001b[0m\u001b[0;34m\u001b[0m\u001b[0m\n\u001b[1;32m      5\u001b[0m \u001b[0mlibrary\u001b[0m\u001b[0;34m(\u001b[0m\u001b[0mtable1\u001b[0m\u001b[0;34m)\u001b[0m\u001b[0;34m\u001b[0m\u001b[0;34m\u001b[0m\u001b[0m\n",
            "\u001b[0;31mNameError\u001b[0m: name 'library' is not defined"
          ]
        }
      ]
    },
    {
      "cell_type": "markdown",
      "source": [
        "First examine the data and how they behave. Use histograms, the `summary` function and other plots and tabular forms of your choice to summarize the data. Note any limitations you observe. Repeat the process for both waves   separately. \n",
        "Hint: remember to use the plot functionality discussed in class\n",
        "\n",
        "Similarly can you create scatterplots to illustrate the relation between (log) wages and 1) education 2) gender and 3)work experience?\n"
      ],
      "metadata": {
        "id": "QS5QPiBbZdec"
      }
    },
    {
      "cell_type": "code",
      "source": [
        "# your turn\n",
        "\n",
        "hist(wages$lwage, main = \"Histogram of Wages\", xlab = \"Wages($)\")\n",
        "summary(wages$lwage)\n",
        "\n",
        "hist(wages$educ, main = \"Histogram of Education\", xlab = \"Education (years)\")\n",
        "summary(wages$educ)\n",
        "\n",
        "hist(wages$female, main = \"Histogram of Female Gender\", xlab = \"Female Identifying = 1\")\n",
        "#Where 1 = identifies as female, 0= doesnt identify as female\n",
        "summary(wages$female)\n",
        "\n",
        "hist(wages$exper, main = \"Histogram of Work Experience\", xlab = \"Work Experience (years)\")\n",
        "summary(wages$exper)\n",
        "\n",
        "\n",
        "#Can also look at vsummary table with these variables included\n",
        "vtable::sumtable(wages)\n",
        "st(wages, vars = c(Wages = 'lwage','educ','female', 'exper'))\n",
        "#Limitations we can observe here are ___________.\n",
        "\n",
        "\n",
        "#Now we do this for the separate waves\n",
        "#Wave 1978\n",
        "wages1978 <- subset(wages,year == 78) \n",
        "\n",
        "hist(wages1978$lwage, main = \"Histogram of Wages 1978\", xlab = \"Wages($)\")\n",
        "summary(wages$lwage)\n",
        "\n",
        "hist(wages1978$educ, main = \"Histogram of Education 1978\", xlab = \"Education (years)\")\n",
        "summary(wages1978$educ)\n",
        "\n",
        "hist(wages1978$female, main = \"Histogram of Female Gender 1978\", xlab = \"Female Identifying = 1\")\n",
        "#Where 1 = identifies as female, 0 = doesnt identify as female\n",
        "summary(wages1978$female)\n",
        "\n",
        "hist(wages1978$exper, main = \"Histogram of Work Experience 1978\", xlab = \"Work Experience (years)\")\n",
        "summary(wages1978$exper)\n",
        "\n",
        "#Wave 1985\n",
        "wages1985 <- subset(wages, year == 85)\n",
        "\n",
        "hist(wages1985$lwage, main = \"Histogram of Wages 1985\", xlab = \"Wages($)\")\n",
        "summary(wages1985$lwage)\n",
        "\n",
        "hist(wages1985$educ, main = \"Histogram of Education 1985\", xlab = \"Education (years)\")\n",
        "summary(wages1985$educ)\n",
        "\n",
        "hist(wages1985$female, main = \"Histogram of Female Gender 1985\", xlab = \"Female Identifying = 1\")\n",
        "#Where 1 = identifies as female, 0 = doesnt identify as female\n",
        "summary(wages1985$female)\n",
        "\n",
        "hist(wages1985$exper, main = \"Histogram of Work Experience 1985\", xlab = \"Work Experience (years)\")\n",
        "summary(wages1985$exper)\n",
        "\n",
        "#Next we'll look at scatterplots to illustrate the relation between (log) wages and 1) education \n",
        "\n",
        "ggplot2::ggplot()\n",
        "  wages %>% ggplot (aes(x= educ, y = log(lwage))) + geom_point() \n",
        "\n",
        "ggplot2::ggplot()\n",
        "  wages1978 %>% ggplot (aes(x= educ, y = log(lwage))) + geom_point() \n",
        "\n",
        "ggplot2::ggplot()\n",
        "  wages1985 %>% ggplot (aes(x= educ, y = log(lwage))) + geom_point() \n",
        "\n",
        "#2) gender \n",
        "ggplot2::ggplot()\n",
        "  wages %>% ggplot (aes(x= female, y = log(lwage))) + geom_point() \n",
        "\n",
        "ggplot2::ggplot()\n",
        "  wages1978 %>% ggplot (aes(x= female, y = log(lwage))) + geom_point() \n",
        "\n",
        "ggplot2::ggplot()\n",
        "  wages1985 %>% ggplot (aes(x= female, y = log(lwage))) + geom_point() \n",
        "\n",
        "#3)work experience?\n",
        "ggplot2::ggplot()\n",
        "  wages %>% ggplot (aes(x= exper, y = log(lwage))) + geom_point()\n",
        "\n",
        "ggplot2::ggplot()\n",
        "  wages1978 %>% ggplot (aes(x= exper, y = log(lwage))) + geom_point()\n",
        "\n",
        "ggplot2::ggplot()\n",
        "  wages1985 %>% ggplot (aes(x= exper, y = log(lwage))) + geom_point()\n"
      ],
      "metadata": {
        "id": "Wt3D29tXYsrq"
      },
      "execution_count": null,
      "outputs": []
    },
    {
      "cell_type": "markdown",
      "source": [
        "You can use `table1` to make pretty descriptive tables for all the variables in the `wages`  dataset"
      ],
      "metadata": {
        "id": "RmQmKDOga-0W"
      }
    },
    {
      "cell_type": "code",
      "source": [
        "# illustration of how table1 works\n",
        "table1(~ lwage  | y85, data=wages)\n",
        "\n",
        "# your turn: make a comprehensive table1 with all the variables of the `wages` dataset. Change the names in the headers from \"0\" and \"1\" to something more informative\n"
      ],
      "metadata": {
        "id": "JGmq9fY5bBO3"
      },
      "execution_count": null,
      "outputs": []
    },
    {
      "cell_type": "markdown",
      "source": [
        "You are asked to fit a linear regression model to measure the effect of education on the log earnings while adjusting for experience and gender. In partcular, you are asked to fit :\n",
        "1. a pooled model that ignores the wave effect (1978 vs 1985)\n",
        "2. separate models for each wave\n",
        "\n",
        "What do you notice on the effect of education? Can you fit a model that quatifies the change on the education effect? similarly can you estimate (in the same model) the change in the gender wage gap?\n",
        "try interpreting the results of each model\n",
        "\n",
        "Hint 1: consider using interaction variables\n",
        "Hint 2: datasets in R have a helpful help file (`?cps78_85`)\n"
      ],
      "metadata": {
        "id": "7tEBhym4bEgS"
      }
    },
    {
      "cell_type": "code",
      "source": [
        "#Creating a new variable, sex with female and male \n",
        "wages <-wages %>%\n",
        "  mutate(sex = ifelse(female == 0, \"male\", \"female\"))"
      ],
      "metadata": {
        "id": "KfAWV2N6bRet"
      },
      "execution_count": null,
      "outputs": []
    },
    {
      "cell_type": "code",
      "source": [
        "# your turn\n",
        "\n",
        "#Creating Table1 for the \"wage\" part\n",
        "wages1 <- wages\n",
        "wages1$year <- \n",
        "  factor(wages1$year, \n",
        "         levels=c(78,85),\n",
        "         labels=c(\"Year 1978\", \n",
        "                  \"Year 1985\"))\n",
        "\n",
        "wages1$married <- \n",
        "  factor(wages1$married, \n",
        "         levels=c(0,1),\n",
        "         labels=c(\"Unmarried\", \n",
        "                  \"Married\"))\n",
        "\n",
        "wages1$south <- \n",
        "  factor(wages1$south, \n",
        "         levels=c(0,1),\n",
        "         labels=c(\"Not South\", \n",
        "                  \"South\"))\n",
        "\n",
        "wages1$union <- \n",
        "  factor(wages1$union, \n",
        "         levels=c(0,1),\n",
        "         labels=c(\"Not in Union\", \n",
        "                  \"In Union\"))\n",
        "\n",
        "wages1$nonwhite <- \n",
        "  factor(wages1$nonwhite, \n",
        "         levels=c(0,1),\n",
        "         labels=c(\"White\", \n",
        "                  \"Non-White\"))\n",
        "\n",
        "\n",
        "label(wages1$lwage)  <- \"log wage\"\n",
        "label(wages1$exper)  <- \"experience\"\n",
        "label(wages1$educ)   <- \"education\"\n",
        "label(wages1$union)   <- \"union\"\n",
        "label(wages1$nonwhite)   <- \"White\"\n",
        "\n",
        "table1(~ lwage  + educ + exper + as.factor(sex) + as.factor(married) + as.factor(south) + as.factor(union) + as.factor(nonwhite) | year, data=wages1)\n",
        "\n"
      ],
      "metadata": {
        "id": "0NhjYNc0bcrg"
      },
      "execution_count": null,
      "outputs": []
    },
    {
      "cell_type": "markdown",
      "source": [
        "You have estimated above that indeed education has a positive effect on earnings and that the same years of education would yield higher earnings in 1985 compared to 1978. Next, we would like to estimate how education has affected this change in earnings longitudinally. \n",
        "\n",
        "We load a dataset that comes from the National Longitudinal Survey\n",
        "and comprise a sample of full-time working males who have completed their\n",
        "schooling by 1980 and then followed over the period 1980 to 1987 (8 times)."
      ],
      "metadata": {
        "id": "6iZbKFfMbveb"
      }
    },
    {
      "cell_type": "code",
      "source": [
        "#Running the pooled regression model \n",
        "fit_pooled <- plm(lwage ~ educ + female + exper, data = wages,index = c(\"year\"), model = \"pooling\")\n",
        "stargazer(fit_pooled, type = \"text\")"
      ],
      "metadata": {
        "id": "6WDDICkfbzTq",
        "colab": {
          "base_uri": "https://localhost:8080/",
          "height": 148
        },
        "outputId": "3cc8858d-b639-4643-d1f3-c0c930add08d"
      },
      "execution_count": null,
      "outputs": [
        {
          "output_type": "error",
          "ename": "SyntaxError",
          "evalue": "ignored",
          "traceback": [
            "\u001b[0;36m  File \u001b[0;32m\"<ipython-input-1-4b04455d08de>\"\u001b[0;36m, line \u001b[0;32m2\u001b[0m\n\u001b[0;31m    fit_pooled <- plm(lwage ~ educ + female + exper, data = wages,index = c(\"year\"), model = \"pooling\")\u001b[0m\n\u001b[0m                            ^\u001b[0m\n\u001b[0;31mSyntaxError\u001b[0m\u001b[0;31m:\u001b[0m invalid syntax\n"
          ]
        }
      ]
    },
    {
      "cell_type": "code",
      "source": [
        "# Running a separate regression for the year 1978\n",
        "wages85 <- subset(wages,year == 78) #creating the data subset for the year 1978\n",
        "fit_lm78 <- lm(lwage ~ educ + female + exper, data = wages78)\n",
        "stargazer(fit_lm78, type = \"text\")"
      ],
      "metadata": {
        "id": "hfc5nXNab8HK"
      },
      "execution_count": null,
      "outputs": []
    },
    {
      "cell_type": "code",
      "source": [
        "# running the regression for the year 1985\n",
        "wages85 <- subset(wages,year == 85) #creating the data subset for the year 1985\n",
        "fit_lm85 <- lm(lwage ~ educ + female + exper, data = wages85)\n",
        "stargazer(fit_lm85, type = \"text\")"
      ],
      "metadata": {
        "id": "fQdVPJBXcAio"
      },
      "execution_count": null,
      "outputs": []
    },
    {
      "cell_type": "code",
      "source": [
        "#Running the model by including the interaction variable between education & gender \n",
        "educ_model <- lm(lwage ~  educ*female + year + exper, data = wages)\n",
        "stargazer(educ_model, type = \"text\")\n",
        "\n",
        "educ_model <- lm(lwage ~  educ*year + year + exper, data = wages)\n",
        "stargazer(educ_model, type = \"text\")\n",
        "\n",
        "educ_model <- lm(lwage ~  educ*year + educ*female + year + exper, data = wages)\n",
        "stargazer(educ_model, type = \"text\")\n",
        "\n",
        "#Interpretation: Across all models education had a signification positive effect on log wages\n",
        "#For the pooled model, this was a 9.3% increase in wage per year of education (or, 0.093 units of log wage per year of education)\n",
        "#In 1978, each year of education was associated with a 7.8% increase in wage.\n",
        "#In 1985, each year of education was associated with a 9.8% increase in wage.\n",
        "#To understand the change in the education effect and the change in the sex wage gap attributed to education, a regression model was created with an interaction term between education and the year and an interaction term between education and sex.\n",
        "#This analysis revealed that for every year of education, there is a 1.8% increase in wage which can be attributed to being female.\n",
        "#It also revealed that a 1.8% increase in wage per year of education is associate with the year 1985 compared to 1978."
      ],
      "metadata": {
        "id": "L6Bs5vkYcBve",
        "colab": {
          "base_uri": "https://localhost:8080/",
          "height": 130
        },
        "outputId": "2136082d-64e7-485c-e7b3-1806ef351a9e"
      },
      "execution_count": null,
      "outputs": [
        {
          "output_type": "error",
          "ename": "SyntaxError",
          "evalue": "ignored",
          "traceback": [
            "\u001b[0;36m  File \u001b[0;32m\"<ipython-input-3-bbd7d0826186>\"\u001b[0;36m, line \u001b[0;32m2\u001b[0m\n\u001b[0;31m    educ_model <- lm(lwage ~  educ*female + year + exper, data = wages)\u001b[0m\n\u001b[0m                           ^\u001b[0m\n\u001b[0;31mSyntaxError\u001b[0m\u001b[0;31m:\u001b[0m invalid syntax\n"
          ]
        }
      ]
    },
    {
      "cell_type": "code",
      "source": [
        "#load the data. by default the function below creates a dataset `wagepan`\n",
        "data(wagepan)"
      ],
      "metadata": {
        "id": "iNUem3IDcHxi"
      },
      "execution_count": null,
      "outputs": []
    },
    {
      "cell_type": "markdown",
      "source": [
        "Similar to above, you are asked to observe the data well, through data summaries, histograms and  scatterplots of your choice. All these can help you understand the relation between the covariates. Particular focus should be given in the relation between log wages and time as well as education and log wages . Create a table 1 using the `tableone` or `table1` R packages "
      ],
      "metadata": {
        "id": "zCgJ10kxcS8C"
      }
    },
    {
      "cell_type": "code",
      "source": [
        "# your turn - summarize the data "
      ],
      "metadata": {
        "id": "SXXwI0F1cZVV"
      },
      "execution_count": null,
      "outputs": []
    },
    {
      "cell_type": "markdown",
      "source": [
        "You are asked to understand  the interaction of time with  education on earnings. How did the effect of education on earnings change over time? There are other covariates that are likely to also affect earnings (e.g. race, marriage, belonging to a union) that you would need to adjust for.\n",
        "\n",
        "One possible place you could start is by calculating an  effect that ignores any correlation (or a pooled effect) and fixed effect models. Alternatively you can fit a  random effect model where a random intercept is introduced on the individual level. \n",
        "\n",
        "Hint1: you can do the same thing in many ways in R. Remember to  use `plm` over `lme4` for more \"standard\" econometric random effect models where no assumption on the distribution is made.\n",
        "\n",
        "Hint2 :`plm` works similarly to `lm` but 1) you need to let R know what is the index variable and 2) what kind of model you will be estimating\n"
      ],
      "metadata": {
        "id": "y5Vzn2OxceEp"
      }
    },
    {
      "cell_type": "code",
      "source": [
        "#Running the pooled regression model\n",
        "#added the interaction term between education & year \n",
        "fit_pooled1 <- plm(lwage ~ year*educ + black + union + educ + year + south + exper + married + hisp + poorhlth, data = wagepan,index = c(\"nr\", \"year\"), model = \"pooling\")\n",
        "stargazer(fit_pooled1, type = \"text\")"
      ],
      "metadata": {
        "id": "r05o8716cnYV"
      },
      "execution_count": null,
      "outputs": []
    },
    {
      "cell_type": "code",
      "source": [
        "#Running the Fixed Effects Model\n",
        "panel_fe <- plm(lwage ~ educ + year + educ:year + south + married + exper + union + black + hisp + poorhlth, data = wagepan,index = c(\"nr\", \"year\"), model = \"within\")\n",
        "summary(panel_fe)\n",
        "\n",
        "\n",
        "#Running the Random Effects Model\n",
        "panel_re <- plm(lwage ~ educ + year + educ:year + south + married + exper + union + black + hisp + poorhlth, data = wagepan,index = c(\"nr\", \"year\"), model = \"random\")\n",
        "summary(panel_re)\n"
      ],
      "metadata": {
        "id": "eMANdNBbczLN"
      },
      "execution_count": null,
      "outputs": []
    },
    {
      "cell_type": "markdown",
      "source": [
        "\n",
        "Please interpret the pooled fixed and random effect models with respect to the effect of education and how this changed over the years. Please test some of the basic assumptions of a linear (random effects)  regression including normality of residuals (and normality of random effects if possible), heteroskedasticity etc"
      ],
      "metadata": {
        "id": "CilJAn7edA1I"
      }
    },
    {
      "cell_type": "code",
      "source": [
        "#yourturn"
      ],
      "metadata": {
        "id": "s27W2LDodEUO"
      },
      "execution_count": null,
      "outputs": []
    },
    {
      "cell_type": "markdown",
      "source": [
        "Does  model performance improve when you assume year to be a continuous variable as opposed to a categorical? Please explain, interprete the effect of year in both cases and provide the code to estimate the effect of year as a continuous variable. \n",
        "\n",
        " "
      ],
      "metadata": {
        "id": "MQxod79OdFJg"
      }
    }
  ]
}